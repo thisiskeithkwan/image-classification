{
 "cells": [
  {
   "cell_type": "markdown",
   "metadata": {
    "collapsed": true,
    "deletable": true,
    "editable": true
   },
   "source": [
    "# Image Classification\n",
    "In this project, you'll classify images from the [CIFAR-10 dataset](https://www.cs.toronto.edu/~kriz/cifar.html).  The dataset consists of airplanes, dogs, cats, and other objects. You'll preprocess the images, then train a convolutional neural network on all the samples. The images need to be normalized and the labels need to be one-hot encoded.  You'll get to apply what you learned and build a convolutional, max pooling, dropout, and fully connected layers.  At the end, you'll get to see your neural network's predictions on the sample images.\n",
    "## Get the Data\n",
    "Run the following cell to download the [CIFAR-10 dataset for python](https://www.cs.toronto.edu/~kriz/cifar-10-python.tar.gz)."
   ]
  },
  {
   "cell_type": "code",
   "execution_count": 1,
   "metadata": {
    "collapsed": false,
    "deletable": true,
    "editable": true
   },
   "outputs": [
    {
     "name": "stderr",
     "output_type": "stream",
     "text": [
      "CIFAR-10 Dataset: 171MB [00:09, 17.2MB/s]                              \n"
     ]
    },
    {
     "name": "stdout",
     "output_type": "stream",
     "text": [
      "All files found!\n"
     ]
    }
   ],
   "source": [
    "\"\"\"\n",
    "DON'T MODIFY ANYTHING IN THIS CELL THAT IS BELOW THIS LINE\n",
    "\"\"\"\n",
    "from urllib.request import urlretrieve\n",
    "from os.path import isfile, isdir\n",
    "from tqdm import tqdm\n",
    "import problem_unittests as tests\n",
    "import tarfile\n",
    "\n",
    "cifar10_dataset_folder_path = 'cifar-10-batches-py'\n",
    "\n",
    "# Use Floyd's cifar-10 dataset if present\n",
    "floyd_cifar10_location = '/input/cifar-10/python.tar.gz'\n",
    "if isfile(floyd_cifar10_location):\n",
    "    tar_gz_path = floyd_cifar10_location\n",
    "else:\n",
    "    tar_gz_path = 'cifar-10-python.tar.gz'\n",
    "\n",
    "class DLProgress(tqdm):\n",
    "    last_block = 0\n",
    "\n",
    "    def hook(self, block_num=1, block_size=1, total_size=None):\n",
    "        self.total = total_size\n",
    "        self.update((block_num - self.last_block) * block_size)\n",
    "        self.last_block = block_num\n",
    "\n",
    "if not isfile(tar_gz_path):\n",
    "    with DLProgress(unit='B', unit_scale=True, miniters=1, desc='CIFAR-10 Dataset') as pbar:\n",
    "        urlretrieve(\n",
    "            'https://www.cs.toronto.edu/~kriz/cifar-10-python.tar.gz',\n",
    "            tar_gz_path,\n",
    "            pbar.hook)\n",
    "\n",
    "if not isdir(cifar10_dataset_folder_path):\n",
    "    with tarfile.open(tar_gz_path) as tar:\n",
    "        tar.extractall()\n",
    "        tar.close()\n",
    "\n",
    "\n",
    "tests.test_folder_path(cifar10_dataset_folder_path)"
   ]
  },
  {
   "cell_type": "markdown",
   "metadata": {
    "deletable": true,
    "editable": true
   },
   "source": [
    "## Explore the Data\n",
    "The dataset is broken into batches to prevent your machine from running out of memory.  The CIFAR-10 dataset consists of 5 batches, named `data_batch_1`, `data_batch_2`, etc.. Each batch contains the labels and images that are one of the following:\n",
    "* airplane\n",
    "* automobile\n",
    "* bird\n",
    "* cat\n",
    "* deer\n",
    "* dog\n",
    "* frog\n",
    "* horse\n",
    "* ship\n",
    "* truck\n",
    "\n",
    "Understanding a dataset is part of making predictions on the data.  Play around with the code cell below by changing the `batch_id` and `sample_id`. The `batch_id` is the id for a batch (1-5). The `sample_id` is the id for a image and label pair in the batch.\n",
    "\n",
    "Ask yourself \"What are all possible labels?\", \"What is the range of values for the image data?\", \"Are the labels in order or random?\".  Answers to questions like these will help you preprocess the data and end up with better predictions."
   ]
  },
  {
   "cell_type": "code",
   "execution_count": 2,
   "metadata": {
    "collapsed": false,
    "deletable": true,
    "editable": true
   },
   "outputs": [
    {
     "name": "stdout",
     "output_type": "stream",
     "text": [
      "\n",
      "Stats of batch 1:\n",
      "Samples: 10000\n",
      "Label Counts: {0: 1005, 1: 974, 2: 1032, 3: 1016, 4: 999, 5: 937, 6: 1030, 7: 1001, 8: 1025, 9: 981}\n",
      "First 20 Labels: [6, 9, 9, 4, 1, 1, 2, 7, 8, 3, 4, 7, 7, 2, 9, 9, 9, 3, 2, 6]\n",
      "\n",
      "Example of Image 5:\n",
      "Image - Min Value: 0 Max Value: 252\n",
      "Image - Shape: (32, 32, 3)\n",
      "Label - Label Id: 1 Name: automobile\n"
     ]
    },
    {
     "data": {
      "image/png": "[encoded data removed]",
      "text/plain": [
       "<matplotlib.figure.Figure at 0x7f6afa0b58d0>"
      ]
     },
     "metadata": {
      "image/png": {
       "height": 250,
       "width": 253
      }
     },
     "output_type": "display_data"
    }
   ],
   "source": [
    "%matplotlib inline\n",
    "%config InlineBackend.figure_format = 'retina'\n",
    "\n",
    "import helper\n",
    "import numpy as np\n",
    "\n",
    "# Explore the dataset\n",
    "batch_id = 1\n",
    "sample_id = 5\n",
    "helper.display_stats(cifar10_dataset_folder_path, batch_id, sample_id)"
   ]
  },
  {
   "cell_type": "markdown",
   "metadata": {
    "deletable": true,
    "editable": true
   },
   "source": [
    "## Implement Preprocess Functions\n",
    "### Normalize\n",
    "In the cell below, implement the `normalize` function to take in image data, `x`, and return it as a normalized Numpy array. The values should be in the range of 0 to 1, inclusive.  The return object should be the same shape as `x`."
   ]
  },
  {
   "cell_type": "code",
   "execution_count": 3,
   "metadata": {
    "collapsed": false,
    "deletable": true,
    "editable": true
   },
   "outputs": [
    {
     "name": "stdout",
     "output_type": "stream",
     "text": [
      "Tests Passed\n"
     ]
    }
   ],
   "source": [
    "def normalize(x):\n",
    "    \"\"\"\n",
    "    Normalize a list of sample image data in the range of 0 to 1\n",
    "    : x: List of image data.  The image shape is (32, 32, 3)\n",
    "    : return: Numpy array of normalize data\n",
    "    normlization = x-min/(max-min)\n",
    "    \"\"\"\n",
    "    # TODO: Implement Function\n",
    "    return np.array(x)/255\n",
    "\n",
    "\n",
    "\"\"\"\n",
    "DON'T MODIFY ANYTHING IN THIS CELL THAT IS BELOW THIS LINE\n",
    "\"\"\"\n",
    "tests.test_normalize(normalize)"
   ]
  },
  {
   "cell_type": "markdown",
   "metadata": {
    "deletable": true,
    "editable": true
   },
   "source": [
    "### One-hot encode\n",
    "Just like the previous code cell, you'll be implementing a function for preprocessing.  This time, you'll implement the `one_hot_encode` function. The input, `x`, are a list of labels.  Implement the function to return the list of labels as One-Hot encoded Numpy array.  The possible values for labels are 0 to 9. The one-hot encoding function should return the same encoding for each value between each call to `one_hot_encode`.  Make sure to save the map of encodings outside the function.\n",
    "\n",
    "Hint: Don't reinvent the wheel."
   ]
  },
  {
   "cell_type": "code",
   "execution_count": 4,
   "metadata": {
    "collapsed": false,
    "deletable": true,
    "editable": true
   },
   "outputs": [
    {
     "name": "stdout",
     "output_type": "stream",
     "text": [
      "    0\n",
      "0   6\n",
      "1   9\n",
      "2   9\n",
      "3   4\n",
      "4   1\n",
      "5   1\n",
      "6   2\n",
      "7   7\n",
      "8   8\n",
      "9   3\n",
      "10  4\n",
      "11  7\n",
      "12  7\n",
      "13  2\n",
      "14  9\n",
      "15  9\n",
      "16  9\n",
      "17  3\n",
      "18  2\n",
      "19  6\n"
     ]
    }
   ],
   "source": [
    "from pandas import DataFrame\n",
    "labels = [6, 9, 9, 4, 1, 1, 2, 7, 8, 3, 4, 7, 7, 2, 9, 9, 9, 3, 2, 6]\n",
    "labels_df = DataFrame(labels)\n",
    "\n",
    "print(labels_df)"
   ]
  },
  {
   "cell_type": "markdown",
   "metadata": {
    "deletable": true,
    "editable": true
   },
   "source": []
  },
  {
   "cell_type": "code",
   "execution_count": 5,
   "metadata": {
    "collapsed": false,
    "deletable": true,
    "editable": true
   },
   "outputs": [
    {
     "name": "stdout",
     "output_type": "stream",
     "text": [
      "  (0, 9)\t1.0\n",
      "  (1, 9)\t1.0\n",
      "  (2, 0)\t1.0\n",
      "  (3, 3)\t1.0\n",
      "  (4, 6)\t1.0\n",
      "  (5, 4)\t1.0\n",
      "  (6, 6)\t1.0\n",
      "  (7, 7)\t1.0\n",
      "  (8, 9)\t1.0\n",
      "  (9, 7)\t1.0\n",
      "  (10, 4)\t1.0\n",
      "  (11, 0)\t1.0\n",
      "  (12, 9)\t1.0\n",
      "  (13, 9)\t1.0\n",
      "  (14, 6)\t1.0\n",
      "  (15, 9)\t1.0\n",
      "  (16, 4)\t1.0\n",
      "  (17, 1)\t1.0\n",
      "  (18, 9)\t1.0\n",
      "  (19, 0)\t1.0\n",
      "  (20, 0)\t1.0\n",
      "  (21, 7)\t1.0\n",
      "  (22, 5)\t1.0\n",
      "  (23, 4)\t1.0\n",
      "  (24, 5)\t1.0\n",
      "  (25, 0)\t1.0\n",
      "  (26, 9)\t1.0\n",
      "  (27, 1)\t1.0\n",
      "  (28, 9)\t1.0\n",
      "  (29, 6)\t1.0\n",
      "  (30, 4)\t1.0\n",
      "  (31, 2)\t1.0\n",
      "  (32, 1)\t1.0\n",
      "  (33, 1)\t1.0\n",
      "  (34, 8)\t1.0\n",
      "  (35, 4)\t1.0\n",
      "  (36, 0)\t1.0\n",
      "  (37, 1)\t1.0\n",
      "  (38, 6)\t1.0\n",
      "  (39, 0)\t1.0\n",
      "  (40, 9)\t1.0\n",
      "  (41, 3)\t1.0\n",
      "  (42, 7)\t1.0\n",
      "  (43, 6)\t1.0\n",
      "  (44, 3)\t1.0\n",
      "  (45, 3)\t1.0\n",
      "  (46, 7)\t1.0\n",
      "  (47, 6)\t1.0\n",
      "  (0, 9)\t1.0\n",
      "  (1, 7)\t1.0\n",
      "  (2, 9)\t1.0\n",
      "  (3, 6)\t1.0\n",
      "  (4, 9)\t1.0\n",
      "Tests Passed\n"
     ]
    }
   ],
   "source": [
    "from sklearn.preprocessing import OneHotEncoder\n",
    "from pandas import DataFrame\n",
    "def one_hot_encode(x):\n",
    "    \"\"\"\n",
    "    One hot encode a list of sample labels. Return a one-hot encoded vector for each label.\n",
    "    : x: List of sample Labels\n",
    "    : return: Numpy array of one-hot encoded labels\n",
    "    \"\"\"\n",
    "    enc = OneHotEncoder(n_values=10)\n",
    "    labels_df = DataFrame(x)\n",
    "    labels_df = enc.fit_transform(labels_df)\n",
    "    print(labels_df)\n",
    "    return labels_df.toarray()\n",
    "    \n",
    "\n",
    "    \n",
    "\n",
    "\n",
    "\"\"\"\n",
    "DON'T MODIFY ANYTHING IN THIS CELL THAT IS BELOW THIS LINE\n",
    "\"\"\"\n",
    "tests.test_one_hot_encode(one_hot_encode)"
   ]
  },
  {
   "cell_type": "markdown",
   "metadata": {
    "deletable": true,
    "editable": true
   },
   "source": [
    "### Randomize Data\n",
    "As you saw from exploring the data above, the order of the samples are randomized.  It doesn't hurt to randomize it again, but you don't need to for this dataset."
   ]
  },
  {
   "cell_type": "markdown",
   "metadata": {
    "deletable": true,
    "editable": true
   },
   "source": [
    "## Preprocess all the data and save it\n",
    "Running the code cell below will preprocess all the CIFAR-10 data and save it to file. The code below also uses 10% of the training data for validation."
   ]
  },
  {
   "cell_type": "code",
   "execution_count": 6,
   "metadata": {
    "collapsed": false,
    "deletable": true,
    "editable": true
   },
   "outputs": [
    {
     "name": "stdout",
     "output_type": "stream",
     "text": [
      "  (0, 6)\t1.0\n",
      "  (1, 9)\t1.0\n",
      "  (2, 9)\t1.0\n",
      "  (3, 4)\t1.0\n",
      "  (4, 1)\t1.0\n",
      "  (5, 1)\t1.0\n",
      "  (6, 2)\t1.0\n",
      "  (7, 7)\t1.0\n",
      "  (8, 8)\t1.0\n",
      "  (9, 3)\t1.0\n",
      "  (10, 4)\t1.0\n",
      "  (11, 7)\t1.0\n",
      "  (12, 7)\t1.0\n",
      "  (13, 2)\t1.0\n",
      "  (14, 9)\t1.0\n",
      "  (15, 9)\t1.0\n",
      "  (16, 9)\t1.0\n",
      "  (17, 3)\t1.0\n",
      "  (18, 2)\t1.0\n",
      "  (19, 6)\t1.0\n",
      "  (20, 4)\t1.0\n",
      "  (21, 3)\t1.0\n",
      "  (22, 6)\t1.0\n",
      "  (23, 6)\t1.0\n",
      "  (24, 2)\t1.0\n",
      "  :\t:\n",
      "  (8975, 9)\t1.0\n",
      "  (8976, 7)\t1.0\n",
      "  (8977, 1)\t1.0\n",
      "  (8978, 3)\t1.0\n",
      "  (8979, 6)\t1.0\n",
      "  (8980, 7)\t1.0\n",
      "  (8981, 4)\t1.0\n",
      "  (8982, 8)\t1.0\n",
      "  (8983, 6)\t1.0\n",
      "  (8984, 7)\t1.0\n",
      "  (8985, 5)\t1.0\n",
      "  (8986, 3)\t1.0\n",
      "  (8987, 4)\t1.0\n",
      "  (8988, 3)\t1.0\n",
      "  (8989, 5)\t1.0\n",
      "  (8990, 2)\t1.0\n",
      "  (8991, 6)\t1.0\n",
      "  (8992, 9)\t1.0\n",
      "  (8993, 5)\t1.0\n",
      "  (8994, 0)\t1.0\n",
      "  (8995, 1)\t1.0\n",
      "  (8996, 7)\t1.0\n",
      "  (8997, 4)\t1.0\n",
      "  (8998, 8)\t1.0\n",
      "  (8999, 9)\t1.0\n",
      "  (0, 1)\t1.0\n",
      "  (1, 6)\t1.0\n",
      "  (2, 6)\t1.0\n",
      "  (3, 8)\t1.0\n",
      "  (4, 8)\t1.0\n",
      "  (5, 3)\t1.0\n",
      "  (6, 4)\t1.0\n",
      "  (7, 6)\t1.0\n",
      "  (8, 0)\t1.0\n",
      "  (9, 6)\t1.0\n",
      "  (10, 0)\t1.0\n",
      "  (11, 3)\t1.0\n",
      "  (12, 6)\t1.0\n",
      "  (13, 6)\t1.0\n",
      "  (14, 5)\t1.0\n",
      "  (15, 4)\t1.0\n",
      "  (16, 8)\t1.0\n",
      "  (17, 3)\t1.0\n",
      "  (18, 2)\t1.0\n",
      "  (19, 6)\t1.0\n",
      "  (20, 0)\t1.0\n",
      "  (21, 3)\t1.0\n",
      "  (22, 1)\t1.0\n",
      "  (23, 4)\t1.0\n",
      "  (24, 0)\t1.0\n",
      "  :\t:\n",
      "  (8975, 7)\t1.0\n",
      "  (8976, 6)\t1.0\n",
      "  (8977, 4)\t1.0\n",
      "  (8978, 6)\t1.0\n",
      "  (8979, 0)\t1.0\n",
      "  (8980, 8)\t1.0\n",
      "  (8981, 5)\t1.0\n",
      "  (8982, 9)\t1.0\n",
      "  (8983, 5)\t1.0\n",
      "  (8984, 4)\t1.0\n",
      "  (8985, 5)\t1.0\n",
      "  (8986, 5)\t1.0\n",
      "  (8987, 2)\t1.0\n",
      "  (8988, 6)\t1.0\n",
      "  (8989, 9)\t1.0\n",
      "  (8990, 6)\t1.0\n",
      "  (8991, 8)\t1.0\n",
      "  (8992, 6)\t1.0\n",
      "  (8993, 3)\t1.0\n",
      "  (8994, 1)\t1.0\n",
      "  (8995, 2)\t1.0\n",
      "  (8996, 8)\t1.0\n",
      "  (8997, 7)\t1.0\n",
      "  (8998, 3)\t1.0\n",
      "  (8999, 0)\t1.0\n",
      "  (0, 8)\t1.0\n",
      "  (1, 5)\t1.0\n",
      "  (2, 0)\t1.0\n",
      "  (3, 6)\t1.0\n",
      "  (4, 9)\t1.0\n",
      "  (5, 2)\t1.0\n",
      "  (6, 8)\t1.0\n",
      "  (7, 3)\t1.0\n",
      "  (8, 6)\t1.0\n",
      "  (9, 2)\t1.0\n",
      "  (10, 7)\t1.0\n",
      "  (11, 4)\t1.0\n",
      "  (12, 6)\t1.0\n",
      "  (13, 9)\t1.0\n",
      "  (14, 0)\t1.0\n",
      "  (15, 0)\t1.0\n",
      "  (16, 7)\t1.0\n",
      "  (17, 3)\t1.0\n",
      "  (18, 7)\t1.0\n",
      "  (19, 2)\t1.0\n",
      "  (20, 5)\t1.0\n",
      "  (21, 6)\t1.0\n",
      "  (22, 6)\t1.0\n",
      "  (23, 0)\t1.0\n",
      "  (24, 9)\t1.0\n",
      "  :\t:\n",
      "  (8975, 1)\t1.0\n",
      "  (8976, 5)\t1.0\n",
      "  (8977, 7)\t1.0\n",
      "  (8978, 0)\t1.0\n",
      "  (8979, 8)\t1.0\n",
      "  (8980, 6)\t1.0\n",
      "  (8981, 1)\t1.0\n",
      "  (8982, 5)\t1.0\n",
      "  (8983, 3)\t1.0\n",
      "  (8984, 3)\t1.0\n",
      "  (8985, 8)\t1.0\n",
      "  (8986, 6)\t1.0\n",
      "  (8987, 7)\t1.0\n",
      "  (8988, 9)\t1.0\n",
      "  (8989, 1)\t1.0\n",
      "  (8990, 6)\t1.0\n",
      "  (8991, 3)\t1.0\n",
      "  (8992, 6)\t1.0\n",
      "  (8993, 6)\t1.0\n",
      "  (8994, 2)\t1.0\n",
      "  (8995, 5)\t1.0\n",
      "  (8996, 3)\t1.0\n",
      "  (8997, 5)\t1.0\n",
      "  (8998, 6)\t1.0\n",
      "  (8999, 5)\t1.0\n",
      "  (0, 0)\t1.0\n",
      "  (1, 6)\t1.0\n",
      "  (2, 0)\t1.0\n",
      "  (3, 2)\t1.0\n",
      "  (4, 7)\t1.0\n",
      "  (5, 2)\t1.0\n",
      "  (6, 1)\t1.0\n",
      "  (7, 2)\t1.0\n",
      "  (8, 4)\t1.0\n",
      "  (9, 1)\t1.0\n",
      "  (10, 5)\t1.0\n",
      "  (11, 6)\t1.0\n",
      "  (12, 6)\t1.0\n",
      "  (13, 3)\t1.0\n",
      "  (14, 1)\t1.0\n",
      "  (15, 3)\t1.0\n",
      "  (16, 5)\t1.0\n",
      "  (17, 5)\t1.0\n",
      "  (18, 8)\t1.0\n",
      "  (19, 1)\t1.0\n",
      "  (20, 4)\t1.0\n",
      "  (21, 2)\t1.0\n",
      "  (22, 3)\t1.0\n",
      "  (23, 2)\t1.0\n",
      "  (24, 1)\t1.0\n",
      "  :\t:\n",
      "  (8975, 5)\t1.0\n",
      "  (8976, 3)\t1.0\n",
      "  (8977, 0)\t1.0\n",
      "  (8978, 8)\t1.0\n",
      "  (8979, 4)\t1.0\n",
      "  (8980, 0)\t1.0\n",
      "  (8981, 2)\t1.0\n",
      "  (8982, 3)\t1.0\n",
      "  (8983, 4)\t1.0\n",
      "  (8984, 3)\t1.0\n",
      "  (8985, 9)\t1.0\n",
      "  (8986, 9)\t1.0\n",
      "  (8987, 8)\t1.0\n",
      "  (8988, 5)\t1.0\n",
      "  (8989, 2)\t1.0\n",
      "  (8990, 5)\t1.0\n",
      "  (8991, 2)\t1.0\n",
      "  (8992, 3)\t1.0\n",
      "  (8993, 6)\t1.0\n",
      "  (8994, 3)\t1.0\n",
      "  (8995, 4)\t1.0\n",
      "  (8996, 2)\t1.0\n",
      "  (8997, 5)\t1.0\n",
      "  (8998, 9)\t1.0\n",
      "  (8999, 3)\t1.0\n",
      "  (0, 1)\t1.0\n",
      "  (1, 8)\t1.0\n",
      "  (2, 5)\t1.0\n",
      "  (3, 1)\t1.0\n",
      "  (4, 5)\t1.0\n",
      "  (5, 7)\t1.0\n",
      "  (6, 4)\t1.0\n",
      "  (7, 3)\t1.0\n",
      "  (8, 8)\t1.0\n",
      "  (9, 2)\t1.0\n",
      "  (10, 7)\t1.0\n",
      "  (11, 2)\t1.0\n",
      "  (12, 0)\t1.0\n",
      "  (13, 1)\t1.0\n",
      "  (14, 5)\t1.0\n",
      "  (15, 9)\t1.0\n",
      "  (16, 6)\t1.0\n",
      "  (17, 2)\t1.0\n",
      "  (18, 0)\t1.0\n",
      "  (19, 8)\t1.0\n",
      "  (20, 2)\t1.0\n",
      "  (21, 7)\t1.0\n",
      "  (22, 0)\t1.0\n",
      "  (23, 4)\t1.0\n",
      "  (24, 1)\t1.0\n",
      "  :\t:\n",
      "  (8975, 1)\t1.0\n",
      "  (8976, 3)\t1.0\n",
      "  (8977, 6)\t1.0\n",
      "  (8978, 0)\t1.0\n",
      "  (8979, 0)\t1.0\n",
      "  (8980, 5)\t1.0\n",
      "  (8981, 6)\t1.0\n",
      "  (8982, 9)\t1.0\n",
      "  (8983, 6)\t1.0\n",
      "  (8984, 8)\t1.0\n",
      "  (8985, 4)\t1.0\n",
      "  (8986, 0)\t1.0\n",
      "  (8987, 9)\t1.0\n",
      "  (8988, 2)\t1.0\n",
      "  (8989, 2)\t1.0\n",
      "  (8990, 8)\t1.0\n",
      "  (8991, 5)\t1.0\n",
      "  (8992, 5)\t1.0\n",
      "  (8993, 3)\t1.0\n",
      "  (8994, 2)\t1.0\n",
      "  (8995, 1)\t1.0\n",
      "  (8996, 9)\t1.0\n",
      "  (8997, 4)\t1.0\n",
      "  (8998, 9)\t1.0\n",
      "  (8999, 3)\t1.0\n",
      "  (0, 4)\t1.0\n",
      "  (1, 2)\t1.0\n",
      "  (2, 2)\t1.0\n",
      "  (3, 9)\t1.0\n",
      "  (4, 0)\t1.0\n",
      "  (5, 3)\t1.0\n",
      "  (6, 3)\t1.0\n",
      "  (7, 1)\t1.0\n",
      "  (8, 3)\t1.0\n",
      "  (9, 0)\t1.0\n",
      "  (10, 4)\t1.0\n",
      "  (11, 2)\t1.0\n",
      "  (12, 1)\t1.0\n",
      "  (13, 4)\t1.0\n",
      "  (14, 0)\t1.0\n",
      "  (15, 8)\t1.0\n",
      "  (16, 2)\t1.0\n",
      "  (17, 1)\t1.0\n",
      "  (18, 4)\t1.0\n",
      "  (19, 4)\t1.0\n",
      "  (20, 3)\t1.0\n",
      "  (21, 6)\t1.0\n",
      "  (22, 6)\t1.0\n",
      "  (23, 8)\t1.0\n",
      "  (24, 3)\t1.0\n",
      "  :\t:\n",
      "  (4975, 3)\t1.0\n",
      "  (4976, 8)\t1.0\n",
      "  (4977, 1)\t1.0\n",
      "  (4978, 7)\t1.0\n",
      "  (4979, 3)\t1.0\n",
      "  (4980, 5)\t1.0\n",
      "  (4981, 4)\t1.0\n",
      "  (4982, 3)\t1.0\n",
      "  (4983, 3)\t1.0\n",
      "  (4984, 4)\t1.0\n",
      "  (4985, 8)\t1.0\n",
      "  (4986, 7)\t1.0\n",
      "  (4987, 2)\t1.0\n",
      "  (4988, 5)\t1.0\n",
      "  (4989, 1)\t1.0\n",
      "  (4990, 4)\t1.0\n",
      "  (4991, 2)\t1.0\n",
      "  (4992, 0)\t1.0\n",
      "  (4993, 1)\t1.0\n",
      "  (4994, 0)\t1.0\n",
      "  (4995, 2)\t1.0\n",
      "  (4996, 6)\t1.0\n",
      "  (4997, 9)\t1.0\n",
      "  (4998, 1)\t1.0\n",
      "  (4999, 1)\t1.0\n",
      "  (0, 3)\t1.0\n",
      "  (1, 8)\t1.0\n",
      "  (2, 8)\t1.0\n",
      "  (3, 0)\t1.0\n",
      "  (4, 6)\t1.0\n",
      "  (5, 6)\t1.0\n",
      "  (6, 1)\t1.0\n",
      "  (7, 6)\t1.0\n",
      "  (8, 3)\t1.0\n",
      "  (9, 1)\t1.0\n",
      "  (10, 0)\t1.0\n",
      "  (11, 9)\t1.0\n",
      "  (12, 5)\t1.0\n",
      "  (13, 7)\t1.0\n",
      "  (14, 9)\t1.0\n",
      "  (15, 8)\t1.0\n",
      "  (16, 5)\t1.0\n",
      "  (17, 7)\t1.0\n",
      "  (18, 8)\t1.0\n",
      "  (19, 6)\t1.0\n",
      "  (20, 7)\t1.0\n",
      "  (21, 0)\t1.0\n",
      "  (22, 4)\t1.0\n",
      "  (23, 9)\t1.0\n",
      "  (24, 5)\t1.0\n",
      "  :\t:\n",
      "  (9975, 7)\t1.0\n",
      "  (9976, 5)\t1.0\n",
      "  (9977, 5)\t1.0\n",
      "  (9978, 7)\t1.0\n",
      "  (9979, 3)\t1.0\n",
      "  (9980, 0)\t1.0\n",
      "  (9981, 4)\t1.0\n",
      "  (9982, 2)\t1.0\n",
      "  (9983, 0)\t1.0\n",
      "  (9984, 7)\t1.0\n",
      "  (9985, 5)\t1.0\n",
      "  (9986, 8)\t1.0\n",
      "  (9987, 0)\t1.0\n",
      "  (9988, 8)\t1.0\n",
      "  (9989, 2)\t1.0\n",
      "  (9990, 7)\t1.0\n",
      "  (9991, 0)\t1.0\n",
      "  (9992, 3)\t1.0\n",
      "  (9993, 5)\t1.0\n",
      "  (9994, 3)\t1.0\n",
      "  (9995, 8)\t1.0\n",
      "  (9996, 3)\t1.0\n",
      "  (9997, 5)\t1.0\n",
      "  (9998, 1)\t1.0\n",
      "  (9999, 7)\t1.0\n"
     ]
    }
   ],
   "source": [
    "\"\"\"\n",
    "DON'T MODIFY ANYTHING IN THIS CELL\n",
    "\"\"\"\n",
    "# Preprocess Training, Validation, and Testing Data\n",
    "helper.preprocess_and_save_data(cifar10_dataset_folder_path, normalize, one_hot_encode)"
   ]
  },
  {
   "cell_type": "markdown",
   "metadata": {
    "deletable": true,
    "editable": true
   },
   "source": [
    "# Check Point\n",
    "This is your first checkpoint.  If you ever decide to come back to this notebook or have to restart the notebook, you can start from here.  The preprocessed data has been saved to disk."
   ]
  },
  {
   "cell_type": "code",
   "execution_count": 7,
   "metadata": {
    "collapsed": true,
    "deletable": true,
    "editable": true
   },
   "outputs": [],
   "source": [
    "\"\"\"\n",
    "DON'T MODIFY ANYTHING IN THIS CELL\n",
    "\"\"\"\n",
    "import pickle\n",
    "import problem_unittests as tests\n",
    "import helper\n",
    "\n",
    "# Load the Preprocessed Validation data\n",
    "valid_features, valid_labels = pickle.load(open('preprocess_validation.p', mode='rb'))"
   ]
  },
  {
   "cell_type": "markdown",
   "metadata": {
    "deletable": true,
    "editable": true
   },
   "source": [
    "## Build the network\n",
    "For the neural network, you'll build each layer into a function.  Most of the code you've seen has been outside of functions. To test your code more thoroughly, we require that you put each layer in a function.  This allows us to give you better feedback and test for simple mistakes using our unittests before you submit your project.\n",
    "\n",
    ">**Note:** If you're finding it hard to dedicate enough time for this course each week, we've provided a small shortcut to this part of the project. In the next couple of problems, you'll have the option to use classes from the [TensorFlow Layers](https://www.tensorflow.org/api_docs/python/tf/layers) or [TensorFlow Layers (contrib)](https://www.tensorflow.org/api_guides/python/contrib.layers) packages to build each layer, except the layers you build in the \"Convolutional and Max Pooling Layer\" section.  TF Layers is similar to Keras's and TFLearn's abstraction to layers, so it's easy to pickup.\n",
    "\n",
    ">However, if you would like to get the most out of this course, try to solve all the problems _without_ using anything from the TF Layers packages. You **can** still use classes from other packages that happen to have the same name as ones you find in TF Layers! For example, instead of using the TF Layers version of the `conv2d` class, [tf.layers.conv2d](https://www.tensorflow.org/api_docs/python/tf/layers/conv2d), you would want to use the TF Neural Network version of `conv2d`, [tf.nn.conv2d](https://www.tensorflow.org/api_docs/python/tf/nn/conv2d). \n",
    "\n",
    "Let's begin!\n",
    "\n",
    "### Input\n",
    "The neural network needs to read the image data, one-hot encoded labels, and dropout keep probability. Implement the following functions\n",
    "* Implement `neural_net_image_input`\n",
    " * Return a [TF Placeholder](https://www.tensorflow.org/api_docs/python/tf/placeholder)\n",
    " * Set the shape using `image_shape` with batch size set to `None`.\n",
    " * Name the TensorFlow placeholder \"x\" using the TensorFlow `name` parameter in the [TF Placeholder](https://www.tensorflow.org/api_docs/python/tf/placeholder).\n",
    "* Implement `neural_net_label_input`\n",
    " * Return a [TF Placeholder](https://www.tensorflow.org/api_docs/python/tf/placeholder)\n",
    " * Set the shape using `n_classes` with batch size set to `None`.\n",
    " * Name the TensorFlow placeholder \"y\" using the TensorFlow `name` parameter in the [TF Placeholder](https://www.tensorflow.org/api_docs/python/tf/placeholder).\n",
    "* Implement `neural_net_keep_prob_input`\n",
    " * Return a [TF Placeholder](https://www.tensorflow.org/api_docs/python/tf/placeholder) for dropout keep probability.\n",
    " * Name the TensorFlow placeholder \"keep_prob\" using the TensorFlow `name` parameter in the [TF Placeholder](https://www.tensorflow.org/api_docs/python/tf/placeholder).\n",
    "\n",
    "These names will be used at the end of the project to load your saved model.\n",
    "\n",
    "Note: `None` for shapes in TensorFlow allow for a dynamic size."
   ]
  },
  {
   "cell_type": "code",
   "execution_count": null,
   "metadata": {
    "collapsed": true,
    "deletable": true,
    "editable": true
   },
   "outputs": [],
   "source": []
  },
  {
   "cell_type": "code",
   "execution_count": 8,
   "metadata": {
    "collapsed": false,
    "deletable": true,
    "editable": true
   },
   "outputs": [
    {
     "name": "stdout",
     "output_type": "stream",
     "text": [
      "Image Input Tests Passed.\n",
      "Label Input Tests Passed.\n",
      "Keep Prob Tests Passed.\n"
     ]
    }
   ],
   "source": [
    "import tensorflow as tf\n",
    "\n",
    "def neural_net_image_input(image_shape):\n",
    "    \"\"\"\n",
    "    Return a Tensor for a batch of image input\n",
    "    : image_shape: Shape of the images\n",
    "    : return: Tensor for image input.\n",
    "    \"\"\"\n",
    "    # TODO: Implement Function\n",
    "    return tf.placeholder(dtype =tf.float32, shape =[None, *image_shape], name=\"x\" )\n",
    "\n",
    "\n",
    "def neural_net_label_input(n_classes):\n",
    "    \"\"\"\n",
    "    Return a Tensor for a batch of label input\n",
    "    : n_classes: Number of classes\n",
    "    : return: Tensor for label input.\n",
    "    \"\"\"\n",
    "    # TODO: Implement Function\n",
    "    return tf.placeholder(dtype=tf.float32, shape=[None,n_classes], name=\"y\")\n",
    "\n",
    "\n",
    "def neural_net_keep_prob_input():\n",
    "    \"\"\"\n",
    "    Return a Tensor for keep probability\n",
    "    : return: Tensor for keep probability.\n",
    "    \"\"\"\n",
    "    # TODO: Implement Function\n",
    "    return tf.placeholder(dtype=tf.float32, name=\"keep_prob\")\n",
    "\n",
    "\n",
    "\"\"\"\n",
    "DON'T MODIFY ANYTHING IN THIS CELL THAT IS BELOW THIS LINE\n",
    "\"\"\"\n",
    "tf.reset_default_graph()\n",
    "tests.test_nn_image_inputs(neural_net_image_input)\n",
    "tests.test_nn_label_inputs(neural_net_label_input)\n",
    "tests.test_nn_keep_prob_inputs(neural_net_keep_prob_input)"
   ]
  },
  {
   "cell_type": "markdown",
   "metadata": {
    "deletable": true,
    "editable": true
   },
   "source": [
    "### Convolution and Max Pooling Layer\n",
    "Convolution layers have a lot of success with images. For this code cell, you should implement the function `conv2d_maxpool` to apply convolution then max pooling:\n",
    "* Create the weight and bias using `conv_ksize`, `conv_num_outputs` and the shape of `x_tensor`.\n",
    "* Apply a convolution to `x_tensor` using weight and `conv_strides`.\n",
    " * We recommend you use same padding, but you're welcome to use any padding.\n",
    "* Add bias\n",
    "* Add a nonlinear activation to the convolution.\n",
    "* Apply Max Pooling using `pool_ksize` and `pool_strides`.\n",
    " * We recommend you use same padding, but you're welcome to use any padding.\n",
    "\n",
    "**Note:** You **can't** use [TensorFlow Layers](https://www.tensorflow.org/api_docs/python/tf/layers) or [TensorFlow Layers (contrib)](https://www.tensorflow.org/api_guides/python/contrib.layers) for **this** layer, but you can still use TensorFlow's [Neural Network](https://www.tensorflow.org/api_docs/python/tf/nn) package. You may still use the shortcut option for all the **other** layers."
   ]
  },
  {
   "cell_type": "code",
   "execution_count": 9,
   "metadata": {
    "collapsed": false,
    "deletable": true,
    "editable": true
   },
   "outputs": [
    {
     "name": "stdout",
     "output_type": "stream",
     "text": [
      "Tests Passed\n"
     ]
    }
   ],
   "source": [
    "def conv2d_maxpool(x_tensor, conv_num_outputs, conv_ksize, conv_strides, pool_ksize, pool_strides):\n",
    "    \"\"\"\n",
    "    Apply convolution then max pooling to x_tensor\n",
    "    :param x_tensor: TensorFlow Tensor\n",
    "    :param conv_num_outputs: Number of outputs for the convolutional layer\n",
    "    :param conv_ksize: kernal size 2-D Tuple for the convolutional layer\n",
    "    :param conv_strides: Stride 2-D Tuple for convolution\n",
    "    :param pool_ksize: kernal size 2-D Tuple for pool\n",
    "    :param pool_strides: Stride 2-D Tuple for pool\n",
    "    : return: A tensor that represents convolution and max pooling of x_tensor\n",
    "    \"\"\"\n",
    "    # TODO: Implement Function\n",
    "    input_channel_depth = int(x_tensor.get_shape()[3])\n",
    "    #set weights, shape = [filter_height, filter_width, in_channels, out_channels]\n",
    "    #*conv_ksize deconstructs the structure\n",
    "    weights = tf.Variable(tf.truncated_normal([*conv_ksize, input_channel_depth, conv_num_outputs], stddev=0.1, dtype=tf.float32))\n",
    "    #set biases\n",
    "    biases = tf.Variable(tf.constant(0, shape=[conv_num_outputs], dtype=tf.float32))\n",
    "    layer = tf.nn.conv2d( input=x_tensor, filter = weights, strides=[1, *conv_strides,1], padding= 'SAME')\n",
    "    layer += biases\n",
    "    layer = tf.nn.max_pool(layer, [1, *pool_ksize,1], strides =[1, *pool_strides,1], padding ='SAME')\n",
    "    return layer                     \n",
    "\n",
    "\n",
    "\"\"\"\n",
    "DON'T MODIFY ANYTHING IN THIS CELL THAT IS BELOW THIS LINE\n",
    "\"\"\"\n",
    "tests.test_con_pool(conv2d_maxpool)"
   ]
  },
  {
   "cell_type": "markdown",
   "metadata": {
    "deletable": true,
    "editable": true
   },
   "source": [
    "### Flatten Layer\n",
    "Implement the `flatten` function to change the dimension of `x_tensor` from a 4-D tensor to a 2-D tensor.  The output should be the shape (*Batch Size*, *Flattened Image Size*). Shortcut option: you can use classes from the [TensorFlow Layers](https://www.tensorflow.org/api_docs/python/tf/layers) or [TensorFlow Layers (contrib)](https://www.tensorflow.org/api_guides/python/contrib.layers) packages for this layer. For more of a challenge, only use other TensorFlow packages."
   ]
  },
  {
   "cell_type": "code",
   "execution_count": 10,
   "metadata": {
    "collapsed": false,
    "deletable": true,
    "editable": true
   },
   "outputs": [
    {
     "name": "stdout",
     "output_type": "stream",
     "text": [
      "Tests Passed\n"
     ]
    }
   ],
   "source": [
    "def flatten(x_tensor):\n",
    "    \"\"\"\n",
    "    Flatten x_tensor to (Batch Size, Flattened Image Size)\n",
    "    : x_tensor: A tensor of size (Batch Size, ...), where ... are the image dimensions.\n",
    "    : return: A tensor of size (Batch Size, Flattened Image Size).\n",
    "    \"\"\"\n",
    "    # TODO: Implement Function\n",
    "    return tf.contrib.layers.flatten(x_tensor)\n",
    "\n",
    "\n",
    "\"\"\"\n",
    "DON'T MODIFY ANYTHING IN THIS CELL THAT IS BELOW THIS LINE\n",
    "\"\"\"\n",
    "tests.test_flatten(flatten)"
   ]
  },
  {
   "cell_type": "markdown",
   "metadata": {
    "deletable": true,
    "editable": true
   },
   "source": [
    "### Fully-Connected Layer\n",
    "Implement the `fully_conn` function to apply a fully connected layer to `x_tensor` with the shape (*Batch Size*, *num_outputs*). Shortcut option: you can use classes from the [TensorFlow Layers](https://www.tensorflow.org/api_docs/python/tf/layers) or [TensorFlow Layers (contrib)](https://www.tensorflow.org/api_guides/python/contrib.layers) packages for this layer. For more of a challenge, only use other TensorFlow packages."
   ]
  },
  {
   "cell_type": "code",
   "execution_count": 94,
   "metadata": {
    "collapsed": false,
    "deletable": true,
    "editable": true
   },
   "outputs": [
    {
     "name": "stdout",
     "output_type": "stream",
     "text": [
      "Tests Passed\n"
     ]
    }
   ],
   "source": [
    "def fully_conn(x_tensor, num_outputs):\n",
    "    \"\"\"\n",
    "    Apply a fully connected layer to x_tensor using weight and bias\n",
    "    : x_tensor: A 2-D tensor where the first dimension is batch size.\n",
    "    : num_outputs: The number of output that the new tensor should be.\n",
    "    : return: A 2-D tensor where the second dimension is num_outputs.\n",
    "    \"\"\"\n",
    "    # TODO: Implement Function\n",
    "    return tf.contrib.layers.fully_connected(inputs=x_tensor, num_outputs=num_outputs, activation_fn= None )\n",
    "\n",
    "\n",
    "\"\"\"\n",
    "DON'T MODIFY ANYTHING IN THIS CELL THAT IS BELOW THIS LINE\n",
    "\"\"\"\n",
    "tests.test_fully_conn(fully_conn)"
   ]
  },
  {
   "cell_type": "markdown",
   "metadata": {
    "deletable": true,
    "editable": true
   },
   "source": [
    "### Output Layer\n",
    "Implement the `output` function to apply a fully connected layer to `x_tensor` with the shape (*Batch Size*, *num_outputs*). Shortcut option: you can use classes from the [TensorFlow Layers](https://www.tensorflow.org/api_docs/python/tf/layers) or [TensorFlow Layers (contrib)](https://www.tensorflow.org/api_guides/python/contrib.layers) packages for this layer. For more of a challenge, only use other TensorFlow packages.\n",
    "\n",
    "**Note:** Activation, softmax, or cross entropy should **not** be applied to this."
   ]
  },
  {
   "cell_type": "code",
   "execution_count": 95,
   "metadata": {
    "collapsed": false,
    "deletable": true,
    "editable": true
   },
   "outputs": [
    {
     "name": "stdout",
     "output_type": "stream",
     "text": [
      "Tests Passed\n"
     ]
    }
   ],
   "source": [
    "def output(x_tensor, num_outputs):\n",
    "    \"\"\"\n",
    "    Apply a output layer to x_tensor using weight and bias\n",
    "    : x_tensor: A 2-D tensor where the first dimension is batch size.\n",
    "    : num_outputs: The number of output that the new tensor should be.\n",
    "    : return: A 2-D tensor where the second dimension is num_outputs.\n",
    "    \"\"\"\n",
    "    # TODO: Implement Function\n",
    "    return tf.layers.dense(inputs=x_tensor, units=num_outputs, activation=None)\n",
    "\n",
    "\n",
    "\"\"\"\n",
    "DON'T MODIFY ANYTHING IN THIS CELL THAT IS BELOW THIS LINE\n",
    "\"\"\"\n",
    "tests.test_output(output)"
   ]
  },
  {
   "cell_type": "markdown",
   "metadata": {
    "deletable": true,
    "editable": true
   },
   "source": [
    "### Create Convolutional Model\n",
    "Implement the function `conv_net` to create a convolutional neural network model. The function takes in a batch of images, `x`, and outputs logits.  Use the layers you created above to create this model:\n",
    "\n",
    "* Apply 1, 2, or 3 Convolution and Max Pool layers\n",
    "* Apply a Flatten Layer\n",
    "* Apply 1, 2, or 3 Fully Connected Layers\n",
    "* Apply an Output Layer\n",
    "* Return the output\n",
    "* Apply [TensorFlow's Dropout](https://www.tensorflow.org/api_docs/python/tf/nn/dropout) to one or more layers in the model using `keep_prob`. "
   ]
  },
  {
   "cell_type": "code",
   "execution_count": 153,
   "metadata": {
    "collapsed": false,
    "deletable": true,
    "editable": true
   },
   "outputs": [
    {
     "name": "stdout",
     "output_type": "stream",
     "text": [
      "Neural Network Built!\n"
     ]
    }
   ],
   "source": [
    "def conv_net(x, keep_prob):\n",
    "    \"\"\"\n",
    "    Create a convolutional neural network model\n",
    "    : x: Placeholder tensor that holds image data.\n",
    "    : keep_prob: Placeholder tensor that hold dropout keep probability.\n",
    "    : return: Tensor that represents logits\n",
    "    \"\"\"\n",
    "    # TODO: Apply 1, 2, or 3 Convolution and Max Pool layers\n",
    "    #    Play around with different number of outputs, kernel size and stride\n",
    "    # Function Definition from Above:\n",
    "    x_tensor = x\n",
    "    conv_num_outputs = 250\n",
    "    \n",
    "    conv_ksize = (4,4)\n",
    "    conv_strides = (1,1)\n",
    "    pool_ksize = (4,4)\n",
    "    pool_strides = (2,2)\n",
    "    num_outputs = 10\n",
    "    conv = conv2d_maxpool(x_tensor, conv_num_outputs, conv_ksize, conv_strides, pool_ksize, pool_strides)\n",
    "    \n",
    "\n",
    "    # TODO: Apply a Flatten Layer\n",
    "    # Function Definition from Above:\n",
    "    x_tensor= flatten(conv)\n",
    "    \n",
    "\n",
    "    # TODO: Apply 1, 2, or 3 Fully Connected Layers\n",
    "    #    Play around with different number of outputs\n",
    "    # Function Definition from Above:\n",
    "    x_tensor = fully_conn(x_tensor, 4)\n",
    "    \n",
    "    \n",
    "    # TODO: Apply an Output Layer\n",
    "    #    Set this to the number of classes\n",
    "    # Function Definition from Above:\n",
    "    out=  output(x_tensor, num_outputs)\n",
    "    \n",
    "    \n",
    "    # TODO: return output\n",
    "    return out\n",
    "\n",
    "\n",
    "\"\"\"\n",
    "DON'T MODIFY ANYTHING IN THIS CELL THAT IS BELOW THIS LINE\n",
    "\"\"\"\n",
    "\n",
    "##############################\n",
    "## Build the Neural Network ##\n",
    "##############################\n",
    "\n",
    "# Remove previous weights, bias, inputs, etc..\n",
    "tf.reset_default_graph()\n",
    "\n",
    "# Inputs\n",
    "x = neural_net_image_input((32, 32, 3))\n",
    "y = neural_net_label_input(10)\n",
    "keep_prob = neural_net_keep_prob_input()\n",
    "\n",
    "# Model\n",
    "logits = conv_net(x, keep_prob)\n",
    "\n",
    "# Name logits Tensor, so that is can be loaded from disk after training\n",
    "logits = tf.identity(logits, name='logits')\n",
    "\n",
    "# Loss and Optimizer\n",
    "cost = tf.reduce_mean(tf.nn.softmax_cross_entropy_with_logits(logits=logits, labels=y))\n",
    "optimizer = tf.train.AdamOptimizer().minimize(cost)\n",
    "\n",
    "# Accuracy\n",
    "correct_pred = tf.equal(tf.argmax(logits, 1), tf.argmax(y, 1))\n",
    "accuracy = tf.reduce_mean(tf.cast(correct_pred, tf.float32), name='accuracy')\n",
    "\n",
    "tests.test_conv_net(conv_net)"
   ]
  },
  {
   "cell_type": "markdown",
   "metadata": {
    "deletable": true,
    "editable": true
   },
   "source": [
    "## Train the Neural Network\n",
    "### Single Optimization\n",
    "Implement the function `train_neural_network` to do a single optimization.  The optimization should use `optimizer` to optimize in `session` with a `feed_dict` of the following:\n",
    "* `x` for image input\n",
    "* `y` for labels\n",
    "* `keep_prob` for keep probability for dropout\n",
    "\n",
    "This function will be called for each batch, so `tf.global_variables_initializer()` has already been called.\n",
    "\n",
    "Note: Nothing needs to be returned. This function is only optimizing the neural network."
   ]
  },
  {
   "cell_type": "code",
   "execution_count": 154,
   "metadata": {
    "collapsed": false,
    "deletable": true,
    "editable": true
   },
   "outputs": [
    {
     "name": "stdout",
     "output_type": "stream",
     "text": [
      "Tests Passed\n"
     ]
    }
   ],
   "source": [
    "def train_neural_network(session, optimizer, keep_probability, feature_batch, label_batch):\n",
    "    \"\"\"\n",
    "    Optimize the session on a batch of images and labels\n",
    "    : session: Current TensorFlow session\n",
    "    : optimizer: TensorFlow optimizer function\n",
    "    : keep_probability: keep probability\n",
    "    : feature_batch: Batch of Numpy image data\n",
    "    : label_batch: Batch of Numpy label data\n",
    "    \"\"\"\n",
    "    # TODO: Implement Function\n",
    "    session.run(optimizer, feed_dict={x: feature_batch, y: label_batch, keep_prob: keep_probability})\n",
    "\n",
    "\"\"\"\n",
    "DON'T MODIFY ANYTHING IN THIS CELL THAT IS BELOW THIS LINE\n",
    "\"\"\"\n",
    "tests.test_train_nn(train_neural_network)"
   ]
  },
  {
   "cell_type": "markdown",
   "metadata": {
    "deletable": true,
    "editable": true
   },
   "source": [
    "### Show Stats\n",
    "Implement the function `print_stats` to print loss and validation accuracy.  Use the global variables `valid_features` and `valid_labels` to calculate validation accuracy.  Use a keep probability of `1.0` to calculate the loss and validation accuracy."
   ]
  },
  {
   "cell_type": "code",
   "execution_count": 155,
   "metadata": {
    "collapsed": true,
    "deletable": true,
    "editable": true
   },
   "outputs": [],
   "source": [
    "def print_stats(session, feature_batch, label_batch, cost, accuracy):\n",
    "    \"\"\"\n",
    "    Print information about loss and validation accuracy\n",
    "    : session: Current TensorFlow session\n",
    "    : feature_batch: Batch of Numpy image data\n",
    "    : label_batch: Batch of Numpy label data\n",
    "    : cost: TensorFlow cost function\n",
    "    : accuracy: TensorFlow accuracy function\n",
    "    \"\"\"\n",
    "    # TODO: Implement Function\n",
    "    loss = sess.run(cost, feed_dict={x: feature_batch, y: label_batch, keep_prob: 1})\n",
    "    valid_acc = sess.run(accuracy, feed_dict={x: valid_features, y: valid_labels,  keep_prob: 1})\n",
    "    print('loss', loss, 'accuracy', valid_acc)"
   ]
  },
  {
   "cell_type": "markdown",
   "metadata": {
    "deletable": true,
    "editable": true
   },
   "source": [
    "### Hyperparameters\n",
    "Tune the following parameters:\n",
    "* Set `epochs` to the number of iterations until the network stops learning or start overfitting\n",
    "* Set `batch_size` to the highest number that your machine has memory for.  Most people set them to common sizes of memory:\n",
    " * 64\n",
    " * 128\n",
    " * 256\n",
    " * ...\n",
    "* Set `keep_probability` to the probability of keeping a node using dropout"
   ]
  },
  {
   "cell_type": "code",
   "execution_count": 156,
   "metadata": {
    "collapsed": true,
    "deletable": true,
    "editable": true
   },
   "outputs": [],
   "source": [
    "# TODO: Tune Parameters\n",
    "epochs = 30\n",
    "batch_size = 256\n",
    "keep_probability = 0.7"
   ]
  },
  {
   "cell_type": "markdown",
   "metadata": {
    "deletable": true,
    "editable": true
   },
   "source": [
    "### Train on a Single CIFAR-10 Batch\n",
    "Instead of training the neural network on all the CIFAR-10 batches of data, let's use a single batch. This should save time while you iterate on the model to get a better accuracy.  Once the final validation accuracy is 50% or greater, run the model on all the data in the next section."
   ]
  },
  {
   "cell_type": "code",
   "execution_count": 157,
   "metadata": {
    "collapsed": false,
    "deletable": true,
    "editable": true
   },
   "outputs": [
    {
     "name": "stdout",
     "output_type": "stream",
     "text": [
      "Checking the Training on a Single Batch...\n",
      "Epoch  1, CIFAR-10 Batch 1:  loss 2.16394 accuracy 0.2952\n",
      "Epoch  2, CIFAR-10 Batch 1:  loss 1.94406 accuracy 0.3026\n",
      "Epoch  3, CIFAR-10 Batch 1:  loss 1.80259 accuracy 0.328\n",
      "Epoch  4, CIFAR-10 Batch 1:  loss 1.68737 accuracy 0.3432\n",
      "Epoch  5, CIFAR-10 Batch 1:  loss 1.5843 accuracy 0.3602\n",
      "Epoch  6, CIFAR-10 Batch 1:  loss 1.48808 accuracy 0.3768\n",
      "Epoch  7, CIFAR-10 Batch 1:  loss 1.40066 accuracy 0.3884\n",
      "Epoch  8, CIFAR-10 Batch 1:  loss 1.32314 accuracy 0.4002\n",
      "Epoch  9, CIFAR-10 Batch 1:  loss 1.24718 accuracy 0.4126\n",
      "Epoch 10, CIFAR-10 Batch 1:  loss 1.17513 accuracy 0.4228\n",
      "Epoch 11, CIFAR-10 Batch 1:  loss 1.10754 accuracy 0.4274\n",
      "Epoch 12, CIFAR-10 Batch 1:  loss 1.04394 accuracy 0.4348\n",
      "Epoch 13, CIFAR-10 Batch 1:  loss 0.984698 accuracy 0.4434\n",
      "Epoch 14, CIFAR-10 Batch 1:  loss 0.929846 accuracy 0.4498\n",
      "Epoch 15, CIFAR-10 Batch 1:  loss 0.87908 accuracy 0.4554\n",
      "Epoch 16, CIFAR-10 Batch 1:  loss 0.831965 accuracy 0.4602\n",
      "Epoch 17, CIFAR-10 Batch 1:  loss 0.78791 accuracy 0.4644\n",
      "Epoch 18, CIFAR-10 Batch 1:  loss 0.746134 accuracy 0.4738\n",
      "Epoch 19, CIFAR-10 Batch 1:  loss 0.705725 accuracy 0.4816\n",
      "Epoch 20, CIFAR-10 Batch 1:  loss 0.666555 accuracy 0.487\n",
      "Epoch 21, CIFAR-10 Batch 1:  loss 0.629244 accuracy 0.4898\n",
      "Epoch 22, CIFAR-10 Batch 1:  loss 0.597222 accuracy 0.4946\n",
      "Epoch 23, CIFAR-10 Batch 1:  loss 0.577541 accuracy 0.4906\n",
      "Epoch 24, CIFAR-10 Batch 1:  loss 0.532884 accuracy 0.4974\n",
      "Epoch 25, CIFAR-10 Batch 1:  loss 0.495333 accuracy 0.505\n",
      "Epoch 26, CIFAR-10 Batch 1:  loss 0.465819 accuracy 0.5016\n",
      "Epoch 27, CIFAR-10 Batch 1:  loss 0.44469 accuracy 0.4966\n",
      "Epoch 28, CIFAR-10 Batch 1:  loss 0.435674 accuracy 0.4916\n",
      "Epoch 29, CIFAR-10 Batch 1:  loss 0.41746 accuracy 0.4898\n",
      "Epoch 30, CIFAR-10 Batch 1:  loss 0.380443 accuracy 0.4986\n"
     ]
    }
   ],
   "source": [
    "\"\"\"\n",
    "DON'T MODIFY ANYTHING IN THIS CELL\n",
    "\"\"\"\n",
    "print('Checking the Training on a Single Batch...')\n",
    "with tf.Session() as sess:\n",
    "    # Initializing the variables\n",
    "    sess.run(tf.global_variables_initializer())\n",
    "    \n",
    "    # Training cycle\n",
    "    for epoch in range(epochs):\n",
    "        batch_i = 1\n",
    "        for batch_features, batch_labels in helper.load_preprocess_training_batch(batch_i, batch_size):\n",
    "            train_neural_network(sess, optimizer, keep_probability, batch_features, batch_labels)\n",
    "        print('Epoch {:>2}, CIFAR-10 Batch {}:  '.format(epoch + 1, batch_i), end='')\n",
    "        print_stats(sess, batch_features, batch_labels, cost, accuracy)"
   ]
  },
  {
   "cell_type": "markdown",
   "metadata": {
    "deletable": true,
    "editable": true
   },
   "source": [
    "### Fully Train the Model\n",
    "Now that you got a good accuracy with a single CIFAR-10 batch, try it with all five batches."
   ]
  },
  {
   "cell_type": "code",
   "execution_count": 159,
   "metadata": {
    "collapsed": false,
    "deletable": true,
    "editable": true
   },
   "outputs": [
    {
     "name": "stdout",
     "output_type": "stream",
     "text": [
      "Training...\n",
      "Epoch  1, CIFAR-10 Batch 1:  loss 2.33099 accuracy 0.2672\n",
      "Epoch  1, CIFAR-10 Batch 2:  loss 1.72732 accuracy 0.3196\n",
      "Epoch  1, CIFAR-10 Batch 3:  loss 1.82434 accuracy 0.3244\n",
      "Epoch  1, CIFAR-10 Batch 4:  loss 1.61588 accuracy 0.3426\n",
      "Epoch  1, CIFAR-10 Batch 5:  loss 1.66492 accuracy 0.3704\n",
      "Epoch  2, CIFAR-10 Batch 1:  loss 1.85858 accuracy 0.3724\n",
      "Epoch  2, CIFAR-10 Batch 2:  loss 1.39955 accuracy 0.3956\n",
      "Epoch  2, CIFAR-10 Batch 3:  loss 1.44185 accuracy 0.421\n",
      "Epoch  2, CIFAR-10 Batch 4:  loss 1.5118 accuracy 0.3878\n",
      "Epoch  2, CIFAR-10 Batch 5:  loss 1.47338 accuracy 0.4268\n",
      "Epoch  3, CIFAR-10 Batch 1:  loss 1.66006 accuracy 0.4112\n",
      "Epoch  3, CIFAR-10 Batch 2:  loss 1.25941 accuracy 0.4194\n",
      "Epoch  3, CIFAR-10 Batch 3:  loss 1.25559 accuracy 0.447\n",
      "Epoch  3, CIFAR-10 Batch 4:  loss 1.37794 accuracy 0.4108\n",
      "Epoch  3, CIFAR-10 Batch 5:  loss 1.30601 accuracy 0.4624\n",
      "Epoch  4, CIFAR-10 Batch 1:  loss 1.48177 accuracy 0.4388\n",
      "Epoch  4, CIFAR-10 Batch 2:  loss 1.15407 accuracy 0.4546\n",
      "Epoch  4, CIFAR-10 Batch 3:  loss 1.11502 accuracy 0.4638\n",
      "Epoch  4, CIFAR-10 Batch 4:  loss 1.29788 accuracy 0.429\n",
      "Epoch  4, CIFAR-10 Batch 5:  loss 1.18294 accuracy 0.4812\n",
      "Epoch  5, CIFAR-10 Batch 1:  loss 1.32098 accuracy 0.4672\n",
      "Epoch  5, CIFAR-10 Batch 2:  loss 1.07121 accuracy 0.4672\n",
      "Epoch  5, CIFAR-10 Batch 3:  loss 1.00248 accuracy 0.4748\n",
      "Epoch  5, CIFAR-10 Batch 4:  loss 1.18585 accuracy 0.468\n",
      "Epoch  5, CIFAR-10 Batch 5:  loss 1.07574 accuracy 0.5072\n",
      "Epoch  6, CIFAR-10 Batch 1:  loss 1.19119 accuracy 0.486\n",
      "Epoch  6, CIFAR-10 Batch 2:  loss 0.994465 accuracy 0.494\n",
      "Epoch  6, CIFAR-10 Batch 3:  loss 0.916653 accuracy 0.4678\n",
      "Epoch  6, CIFAR-10 Batch 4:  loss 1.09318 accuracy 0.5082\n",
      "Epoch  6, CIFAR-10 Batch 5:  loss 0.980609 accuracy 0.5196\n",
      "Epoch  7, CIFAR-10 Batch 1:  loss 1.09428 accuracy 0.504\n",
      "Epoch  7, CIFAR-10 Batch 2:  loss 0.928603 accuracy 0.5094\n",
      "Epoch  7, CIFAR-10 Batch 3:  loss 0.83257 accuracy 0.4794\n",
      "Epoch  7, CIFAR-10 Batch 4:  loss 1.02824 accuracy 0.53\n",
      "Epoch  7, CIFAR-10 Batch 5:  loss 0.918534 accuracy 0.5204\n",
      "Epoch  8, CIFAR-10 Batch 1:  loss 1.00877 accuracy 0.522\n",
      "Epoch  8, CIFAR-10 Batch 2:  loss 0.863539 accuracy 0.5216\n",
      "Epoch  8, CIFAR-10 Batch 3:  loss 0.76992 accuracy 0.4916\n",
      "Epoch  8, CIFAR-10 Batch 4:  loss 0.975607 accuracy 0.539\n",
      "Epoch  8, CIFAR-10 Batch 5:  loss 0.865123 accuracy 0.5228\n",
      "Epoch  9, CIFAR-10 Batch 1:  loss 0.94248 accuracy 0.5294\n",
      "Epoch  9, CIFAR-10 Batch 2:  loss 0.795558 accuracy 0.533\n",
      "Epoch  9, CIFAR-10 Batch 3:  loss 0.716009 accuracy 0.5052\n",
      "Epoch  9, CIFAR-10 Batch 4:  loss 0.93536 accuracy 0.5418\n",
      "Epoch  9, CIFAR-10 Batch 5:  loss 0.826485 accuracy 0.5196\n",
      "Epoch 10, CIFAR-10 Batch 1:  loss 0.884859 accuracy 0.5398\n",
      "Epoch 10, CIFAR-10 Batch 2:  loss 0.738396 accuracy 0.5396\n",
      "Epoch 10, CIFAR-10 Batch 3:  loss 0.673746 accuracy 0.512\n",
      "Epoch 10, CIFAR-10 Batch 4:  loss 0.880357 accuracy 0.548\n",
      "Epoch 10, CIFAR-10 Batch 5:  loss 0.795723 accuracy 0.5206\n",
      "Epoch 11, CIFAR-10 Batch 1:  loss 0.835407 accuracy 0.5482\n",
      "Epoch 11, CIFAR-10 Batch 2:  loss 0.688251 accuracy 0.5404\n",
      "Epoch 11, CIFAR-10 Batch 3:  loss 0.632826 accuracy 0.5202\n",
      "Epoch 11, CIFAR-10 Batch 4:  loss 0.827429 accuracy 0.5524\n",
      "Epoch 11, CIFAR-10 Batch 5:  loss 0.749906 accuracy 0.5256\n",
      "Epoch 12, CIFAR-10 Batch 1:  loss 0.791166 accuracy 0.5472\n",
      "Epoch 12, CIFAR-10 Batch 2:  loss 0.642954 accuracy 0.5404\n",
      "Epoch 12, CIFAR-10 Batch 3:  loss 0.589215 accuracy 0.5284\n",
      "Epoch 12, CIFAR-10 Batch 4:  loss 0.783688 accuracy 0.5544\n",
      "Epoch 12, CIFAR-10 Batch 5:  loss 0.667883 accuracy 0.5454\n",
      "Epoch 13, CIFAR-10 Batch 1:  loss 0.743284 accuracy 0.5522\n",
      "Epoch 13, CIFAR-10 Batch 2:  loss 0.606788 accuracy 0.5452\n",
      "Epoch 13, CIFAR-10 Batch 3:  loss 0.574185 accuracy 0.5374\n",
      "Epoch 13, CIFAR-10 Batch 4:  loss 0.754002 accuracy 0.5546\n",
      "Epoch 13, CIFAR-10 Batch 5:  loss 0.624775 accuracy 0.5526\n",
      "Epoch 14, CIFAR-10 Batch 1:  loss 0.698594 accuracy 0.5552\n",
      "Epoch 14, CIFAR-10 Batch 2:  loss 0.562268 accuracy 0.551\n",
      "Epoch 14, CIFAR-10 Batch 3:  loss 0.550138 accuracy 0.5448\n",
      "Epoch 14, CIFAR-10 Batch 4:  loss 0.711601 accuracy 0.5558\n",
      "Epoch 14, CIFAR-10 Batch 5:  loss 0.580871 accuracy 0.5524\n",
      "Epoch 15, CIFAR-10 Batch 1:  loss 0.657307 accuracy 0.555\n",
      "Epoch 15, CIFAR-10 Batch 2:  loss 0.521401 accuracy 0.557\n",
      "Epoch 15, CIFAR-10 Batch 3:  loss 0.519163 accuracy 0.5452\n",
      "Epoch 15, CIFAR-10 Batch 4:  loss 0.671046 accuracy 0.5588\n",
      "Epoch 15, CIFAR-10 Batch 5:  loss 0.540255 accuracy 0.5552\n",
      "Epoch 16, CIFAR-10 Batch 1:  loss 0.617366 accuracy 0.5546\n",
      "Epoch 16, CIFAR-10 Batch 2:  loss 0.484032 accuracy 0.5604\n",
      "Epoch 16, CIFAR-10 Batch 3:  loss 0.487221 accuracy 0.5508\n",
      "Epoch 16, CIFAR-10 Batch 4:  loss 0.637684 accuracy 0.5572\n",
      "Epoch 16, CIFAR-10 Batch 5:  loss 0.504168 accuracy 0.558\n",
      "Epoch 17, CIFAR-10 Batch 1:  loss 0.5787 accuracy 0.5562\n",
      "Epoch 17, CIFAR-10 Batch 2:  loss 0.450089 accuracy 0.561\n",
      "Epoch 17, CIFAR-10 Batch 3:  loss 0.45655 accuracy 0.5524\n",
      "Epoch 17, CIFAR-10 Batch 4:  loss 0.604701 accuracy 0.5568\n",
      "Epoch 17, CIFAR-10 Batch 5:  loss 0.471346 accuracy 0.5616\n",
      "Epoch 18, CIFAR-10 Batch 1:  loss 0.542805 accuracy 0.5554\n",
      "Epoch 18, CIFAR-10 Batch 2:  loss 0.41916 accuracy 0.5634\n",
      "Epoch 18, CIFAR-10 Batch 3:  loss 0.426759 accuracy 0.5554\n",
      "Epoch 18, CIFAR-10 Batch 4:  loss 0.571559 accuracy 0.5566\n",
      "Epoch 18, CIFAR-10 Batch 5:  loss 0.440699 accuracy 0.5618\n",
      "Epoch 19, CIFAR-10 Batch 1:  loss 0.509055 accuracy 0.5582\n",
      "Epoch 19, CIFAR-10 Batch 2:  loss 0.391925 accuracy 0.5658\n",
      "Epoch 19, CIFAR-10 Batch 3:  loss 0.396935 accuracy 0.558\n",
      "Epoch 19, CIFAR-10 Batch 4:  loss 0.538929 accuracy 0.5604\n",
      "Epoch 19, CIFAR-10 Batch 5:  loss 0.412423 accuracy 0.5648\n",
      "Epoch 20, CIFAR-10 Batch 1:  loss 0.47718 accuracy 0.5582\n",
      "Epoch 20, CIFAR-10 Batch 2:  loss 0.367768 accuracy 0.5676\n",
      "Epoch 20, CIFAR-10 Batch 3:  loss 0.368552 accuracy 0.5566\n",
      "Epoch 20, CIFAR-10 Batch 4:  loss 0.507622 accuracy 0.5614\n",
      "Epoch 20, CIFAR-10 Batch 5:  loss 0.38651 accuracy 0.5642\n",
      "Epoch 21, CIFAR-10 Batch 1:  loss 0.448037 accuracy 0.5592\n",
      "Epoch 21, CIFAR-10 Batch 2:  loss 0.346195 accuracy 0.5686\n",
      "Epoch 21, CIFAR-10 Batch 3:  loss 0.341935 accuracy 0.5578\n",
      "Epoch 21, CIFAR-10 Batch 4:  loss 0.47658 accuracy 0.5646\n",
      "Epoch 21, CIFAR-10 Batch 5:  loss 0.364456 accuracy 0.5662\n",
      "Epoch 22, CIFAR-10 Batch 1:  loss 0.421389 accuracy 0.5558\n",
      "Epoch 22, CIFAR-10 Batch 2:  loss 0.325725 accuracy 0.5668\n",
      "Epoch 22, CIFAR-10 Batch 3:  loss 0.318805 accuracy 0.5614\n",
      "Epoch 22, CIFAR-10 Batch 4:  loss 0.445673 accuracy 0.5672\n",
      "Epoch 22, CIFAR-10 Batch 5:  loss 0.345698 accuracy 0.5656\n",
      "Epoch 23, CIFAR-10 Batch 1:  loss 0.397603 accuracy 0.5536\n",
      "Epoch 23, CIFAR-10 Batch 2:  loss 0.306409 accuracy 0.5644\n",
      "Epoch 23, CIFAR-10 Batch 3:  loss 0.299934 accuracy 0.5616\n",
      "Epoch 23, CIFAR-10 Batch 4:  loss 0.4171 accuracy 0.567\n",
      "Epoch 23, CIFAR-10 Batch 5:  loss 0.327454 accuracy 0.5692\n",
      "Epoch 24, CIFAR-10 Batch 1:  loss 0.375413 accuracy 0.5544\n",
      "Epoch 24, CIFAR-10 Batch 2:  loss 0.286927 accuracy 0.5678\n",
      "Epoch 24, CIFAR-10 Batch 3:  loss 0.284158 accuracy 0.5586\n",
      "Epoch 24, CIFAR-10 Batch 4:  loss 0.392182 accuracy 0.5672\n",
      "Epoch 24, CIFAR-10 Batch 5:  loss 0.309196 accuracy 0.5692\n",
      "Epoch 25, CIFAR-10 Batch 1:  loss 0.354324 accuracy 0.5528\n",
      "Epoch 25, CIFAR-10 Batch 2:  loss 0.268006 accuracy 0.5664\n",
      "Epoch 25, CIFAR-10 Batch 3:  loss 0.270601 accuracy 0.5594\n",
      "Epoch 25, CIFAR-10 Batch 4:  loss 0.369306 accuracy 0.5652\n",
      "Epoch 25, CIFAR-10 Batch 5:  loss 0.292337 accuracy 0.5708\n",
      "Epoch 26, CIFAR-10 Batch 1:  loss 0.333454 accuracy 0.553\n",
      "Epoch 26, CIFAR-10 Batch 2:  loss 0.250524 accuracy 0.5672\n",
      "Epoch 26, CIFAR-10 Batch 3:  loss 0.257974 accuracy 0.5602\n",
      "Epoch 26, CIFAR-10 Batch 4:  loss 0.34923 accuracy 0.565\n",
      "Epoch 26, CIFAR-10 Batch 5:  loss 0.276103 accuracy 0.5722\n",
      "Epoch 27, CIFAR-10 Batch 1:  loss 0.312279 accuracy 0.5538\n",
      "Epoch 27, CIFAR-10 Batch 2:  loss 0.234976 accuracy 0.5648\n",
      "Epoch 27, CIFAR-10 Batch 3:  loss 0.24515 accuracy 0.5624\n",
      "Epoch 27, CIFAR-10 Batch 4:  loss 0.330424 accuracy 0.5648\n",
      "Epoch 27, CIFAR-10 Batch 5:  loss 0.261184 accuracy 0.5694\n",
      "Epoch 28, CIFAR-10 Batch 1:  loss 0.291575 accuracy 0.556\n",
      "Epoch 28, CIFAR-10 Batch 2:  loss 0.221191 accuracy 0.5672\n",
      "Epoch 28, CIFAR-10 Batch 3:  loss 0.233385 accuracy 0.5632\n",
      "Epoch 28, CIFAR-10 Batch 4:  loss 0.312603 accuracy 0.5624\n",
      "Epoch 28, CIFAR-10 Batch 5:  loss 0.247902 accuracy 0.5692\n",
      "Epoch 29, CIFAR-10 Batch 1:  loss 0.272803 accuracy 0.5574\n",
      "Epoch 29, CIFAR-10 Batch 2:  loss 0.213241 accuracy 0.5682\n",
      "Epoch 29, CIFAR-10 Batch 3:  loss 0.229489 accuracy 0.559\n",
      "Epoch 29, CIFAR-10 Batch 4:  loss 0.289234 accuracy 0.565\n",
      "Epoch 29, CIFAR-10 Batch 5:  loss 0.224788 accuracy 0.571\n",
      "Epoch 30, CIFAR-10 Batch 1:  loss 0.28531 accuracy 0.544\n",
      "Epoch 30, CIFAR-10 Batch 2:  loss 0.231287 accuracy 0.5568\n",
      "Epoch 30, CIFAR-10 Batch 3:  loss 0.21805 accuracy 0.5422\n",
      "Epoch 30, CIFAR-10 Batch 4:  loss 0.286039 accuracy 0.555\n",
      "Epoch 30, CIFAR-10 Batch 5:  loss 0.214843 accuracy 0.5654\n"
     ]
    }
   ],
   "source": [
    "\"\"\"\n",
    "DON'T MODIFY ANYTHING IN THIS CELL\n",
    "\"\"\"\n",
    "save_model_path = './image_classification'\n",
    "\n",
    "print('Training...')\n",
    "with tf.Session() as sess:\n",
    "    # Initializing the variables\n",
    "    sess.run(tf.global_variables_initializer())\n",
    "    \n",
    "    # Training cycle\n",
    "    for epoch in range(epochs):\n",
    "        # Loop over all batches\n",
    "        n_batches = 5\n",
    "        for batch_i in range(1, n_batches + 1):\n",
    "            for batch_features, batch_labels in helper.load_preprocess_training_batch(batch_i, batch_size):\n",
    "                train_neural_network(sess, optimizer, keep_probability, batch_features, batch_labels)\n",
    "            print('Epoch {:>2}, CIFAR-10 Batch {}:  '.format(epoch + 1, batch_i), end='')\n",
    "            print_stats(sess, batch_features, batch_labels, cost, accuracy)\n",
    "            \n",
    "    # Save Model\n",
    "    saver = tf.train.Saver()\n",
    "    save_path = saver.save(sess, save_model_path)"
   ]
  },
  {
   "cell_type": "markdown",
   "metadata": {
    "deletable": true,
    "editable": true
   },
   "source": [
    "# Checkpoint\n",
    "The model has been saved to disk.\n",
    "## Test Model\n",
    "Test your model against the test dataset.  This will be your final accuracy. You should have an accuracy greater than 50%. If you don't, keep tweaking the model architecture and parameters."
   ]
  },
  {
   "cell_type": "code",
   "execution_count": 161,
   "metadata": {
    "collapsed": false,
    "deletable": true,
    "editable": true
   },
   "outputs": [
    {
     "name": "stdout",
     "output_type": "stream",
     "text": [
      "Testing Accuracy: 0.56162109375\n",
      "\n"
     ]
    },
    {
     "data": {
      "image/png": "[encoded data removed]",
      "text/plain": [
       "<matplotlib.figure.Figure at 0x7f6aad2a80b8>"
      ]
     },
     "metadata": {
      "image/png": {
       "height": 319,
       "width": 355
      }
     },
     "output_type": "display_data"
    }
   ],
   "source": [
    "\"\"\"\n",
    "DON'T MODIFY ANYTHING IN THIS CELL\n",
    "\"\"\"\n",
    "%matplotlib inline\n",
    "%config InlineBackend.figure_format = 'retina'\n",
    "\n",
    "import tensorflow as tf\n",
    "import pickle\n",
    "import helper\n",
    "import random\n",
    "\n",
    "# Set batch size if not already set\n",
    "try:\n",
    "    if batch_size:\n",
    "        pass\n",
    "except NameError:\n",
    "    batch_size = 64\n",
    "\n",
    "save_model_path = './image_classification'\n",
    "n_samples = 4\n",
    "top_n_predictions = 3\n",
    "\n",
    "def test_model():\n",
    "    \"\"\"\n",
    "    Test the saved model against the test dataset\n",
    "    \"\"\"\n",
    "\n",
    "    test_features, test_labels = pickle.load(open('preprocess_test.p', mode='rb'))\n",
    "    loaded_graph = tf.Graph()\n",
    "\n",
    "    with tf.Session(graph=loaded_graph) as sess:\n",
    "        # Load model\n",
    "        loader = tf.train.import_meta_graph(save_model_path + '.meta')\n",
    "        loader.restore(sess, save_model_path)\n",
    "\n",
    "        # Get Tensors from loaded model\n",
    "        loaded_x = loaded_graph.get_tensor_by_name('x:0')\n",
    "        loaded_y = loaded_graph.get_tensor_by_name('y:0')\n",
    "        loaded_keep_prob = loaded_graph.get_tensor_by_name('keep_prob:0')\n",
    "        loaded_logits = loaded_graph.get_tensor_by_name('logits:0')\n",
    "        loaded_acc = loaded_graph.get_tensor_by_name('accuracy:0')\n",
    "        \n",
    "        # Get accuracy in batches for memory limitations\n",
    "        test_batch_acc_total = 0\n",
    "        test_batch_count = 0\n",
    "        \n",
    "        for test_feature_batch, test_label_batch in helper.batch_features_labels(test_features, test_labels, batch_size):\n",
    "            test_batch_acc_total += sess.run(\n",
    "                loaded_acc,\n",
    "                feed_dict={loaded_x: test_feature_batch, loaded_y: test_label_batch, loaded_keep_prob: 1.0})\n",
    "            test_batch_count += 1\n",
    "\n",
    "        print('Testing Accuracy: {}\\n'.format(test_batch_acc_total/test_batch_count))\n",
    "\n",
    "        # Print Random Samples\n",
    "        random_test_features, random_test_labels = tuple(zip(*random.sample(list(zip(test_features, test_labels)), n_samples)))\n",
    "        random_test_predictions = sess.run(\n",
    "            tf.nn.top_k(tf.nn.softmax(loaded_logits), top_n_predictions),\n",
    "            feed_dict={loaded_x: random_test_features, loaded_y: random_test_labels, loaded_keep_prob: 1.0})\n",
    "        helper.display_image_predictions(random_test_features, random_test_labels, random_test_predictions)\n",
    "\n",
    "\n",
    "test_model()"
   ]
  },
  {
   "cell_type": "markdown",
   "metadata": {
    "deletable": true,
    "editable": true
   },
   "source": [
    "## Why 50-80% Accuracy?\n",
    "You might be wondering why you can't get an accuracy any higher. First things first, 50% isn't bad for a simple CNN.  Pure guessing would get you 10% accuracy. However, you might notice people are getting scores [well above 80%](http://rodrigob.github.io/are_we_there_yet/build/classification_datasets_results.html#43494641522d3130).  That's because we haven't taught you all there is to know about neural networks. We still need to cover a few more techniques.\n",
    "## Submitting This Project\n",
    "When submitting this project, make sure to run all the cells before saving the notebook.  Save the notebook file as \"dlnd_image_classification.ipynb\" and save it as a HTML file under \"File\" -> \"Download as\".  Include the \"helper.py\" and \"problem_unittests.py\" files in your submission."
   ]
  },
  {
   "cell_type": "code",
   "execution_count": null,
   "metadata": {
    "collapsed": true
   },
   "outputs": [],
   "source": []
  }
 ],
 "metadata": {
  "kernelspec": {
   "display_name": "Python 3",
   "language": "python",
   "name": "python3"
  },
  "language_info": {
   "codemirror_mode": {
    "name": "ipython",
    "version": 3
   },
   "file_extension": ".py",
   "mimetype": "text/x-python",
   "name": "python",
   "nbconvert_exporter": "python",
   "pygments_lexer": "ipython3",
   "version": "3.5.3"
  }
 },
 "nbformat": 4,
 "nbformat_minor": 1
}
